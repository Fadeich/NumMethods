{
 "cells": [
  {
   "cell_type": "code",
   "execution_count": 1,
   "metadata": {
    "collapsed": true
   },
   "outputs": [],
   "source": [
    "from scipy.integrate import quad\n",
    "%matplotlib inline"
   ]
  },
  {
   "cell_type": "code",
   "execution_count": 2,
   "metadata": {
    "collapsed": true
   },
   "outputs": [],
   "source": [
    "import numpy as np\n",
    "import math\n",
    "import pylab\n",
    "from scipy import optimize"
   ]
  },
  {
   "cell_type": "markdown",
   "metadata": {},
   "source": [
    "Простая формула трапеций:\n",
    "$$\\int_{a}^{b} f(x) dx \\approx \\frac{(b-a)}{2} \\left (f(a)+f(b)\\right)$$\n",
    "Составная формула трапеций:\n",
    "$h = \\frac{b-a}{N}$\n",
    "$$\\int_{a}^{b} f(x) dx \\approx \\frac{h}{2}\\left(f_0 +2(f_1 + f_2 + ... + f_{N-1}) + f_{N}\\right)$$\n",
    "Порядок точности:\n",
    "Аналитический порядок точности равен единице, так как на каждом интервале метод приближает функцию линейной."
   ]
  },
  {
   "cell_type": "code",
   "execution_count": 47,
   "metadata": {
    "collapsed": true
   },
   "outputs": [],
   "source": [
    "def Integrate(x, f, a, b):\n",
    "    x = x[a <= x]\n",
    "    x = x[x <= b]\n",
    "    sum_int = f[0]+f[-1]+2*sum(f[1:-1])\n",
    "    return float(sum_int*(x[1]-x[0])/2)"
   ]
  },
  {
   "cell_type": "code",
   "execution_count": 48,
   "metadata": {
    "collapsed": true
   },
   "outputs": [],
   "source": [
    "def func(x):\n",
    "    return x**3\n",
    "\n",
    "def func2(x):\n",
    "    return x**(-1/2)\n",
    "\n",
    "def func3(x):\n",
    "    return x**(3)*math.cos(100*x)\n",
    "\n",
    "def test():\n",
    "    n = 20\n",
    "    ro_w_x = np.linspace(1, 2, n)\n",
    "    ro_w_y = np.array([func(i) for i in ro_w_x])\n",
    "    U_y = Integrate(ro_w_x, ro_w_y, 1, 2)\n",
    "    print(\"x^3\", np.abs(U_y - quad(func, 1, 2)[0]))\n",
    "    \n",
    "    ro_w_x = np.linspace(0.01, 1, n)\n",
    "    ro_w_y = np.array([func2(i) for i in ro_w_x])\n",
    "    U_y = Integrate(ro_w_x, ro_w_y, 0, 1)\n",
    "    print(\"x^(-1/2)\", np.abs(U_y-2))\n",
    "    \n",
    "    ro_w_x = np.linspace(0, 1, n)\n",
    "    ro_w_y = np.array([func(i) for i in ro_w_x])\n",
    "    U_y = Integrate(ro_w_x, ro_w_y, 0, 1)\n",
    "    print(\"x^3*cos(100x)\", np.abs(U_y - quad(func3, 0, 1)[0]))\n"
   ]
  },
  {
   "cell_type": "code",
   "execution_count": 49,
   "metadata": {
    "collapsed": false
   },
   "outputs": [
    {
     "name": "stdout",
     "output_type": "stream",
     "text": [
      "x^3 0.00207756232686\n",
      "x^(-1/2) 0.126420034515\n",
      "x^3*cos(100x) 0.25549443507\n"
     ]
    }
   ],
   "source": [
    "test()"
   ]
  },
  {
   "cell_type": "markdown",
   "metadata": {},
   "source": [
    "На разрывных и осциллирующих примерах метод довольно сильно ошибается, что неудивительно."
   ]
  },
  {
   "cell_type": "code",
   "execution_count": 50,
   "metadata": {
    "collapsed": true
   },
   "outputs": [],
   "source": [
    "def linear_fit(x, a, b):\n",
    "    return a * x + b\n",
    "\n",
    "def get_er(n):\n",
    "    n_array = [i*10 for i in range(1, n+1)]\n",
    "    n_log_array = [math.log(i*10) for i in n_array]\n",
    "    er_array = []\n",
    "    for n in n_array:\n",
    "        ro_w_x = np.linspace(0, 1, n)\n",
    "        ro_w_y = np.array([func(i) for i in ro_w_x])\n",
    "        er_array.append(math.log(np.abs(Integrate(ro_w_x, ro_w_y,  0, 1)-0.25)))\n",
    "    pylab.plot (n_log_array, er_array)\n",
    "    pylab.show()\n",
    "    fit_a, fit_b = optimize.curve_fit(linear_fit, n_log_array, er_array)[0]\n",
    "    return fit_a, fit_b"
   ]
  },
  {
   "cell_type": "code",
   "execution_count": 51,
   "metadata": {
    "collapsed": false,
    "scrolled": true
   },
   "outputs": [
    {
     "data": {
      "image/png": "[encoded data removed]",
      "text/plain": [
       "<matplotlib.figure.Figure at 0x7facf1dbe748>"
      ]
     },
     "metadata": {},
     "output_type": "display_data"
    },
    {
     "name": "stdout",
     "output_type": "stream",
     "text": [
      "-k -2.03507095996\n",
      "C 3.49892910372\n"
     ]
    }
   ],
   "source": [
    "a, b = get_er(40)\n",
    "print(\"-k\", a)\n",
    "print(\"C\", b)"
   ]
  },
  {
   "cell_type": "markdown",
   "metadata": {},
   "source": [
    "Полученный порядок аппроксимации примерно 2, а оценка константы -- примерно 3.5.\n",
    "\n",
    "$ E(h) \\le 3.5 h^2$"
   ]
  }
 ],
 "metadata": {
  "kernelspec": {
   "display_name": "Python 3",
   "language": "python",
   "name": "python3"
  },
  "language_info": {
   "codemirror_mode": {
    "name": "ipython",
    "version": 3
   },
   "file_extension": ".py",
   "mimetype": "text/x-python",
   "name": "python",
   "nbconvert_exporter": "python",
   "pygments_lexer": "ipython3",
   "version": "3.4.3"
  }
 },
 "nbformat": 4,
 "nbformat_minor": 0
}
